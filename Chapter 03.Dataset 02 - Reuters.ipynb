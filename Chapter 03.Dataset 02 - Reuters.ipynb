{
 "cells": [
  {
   "cell_type": "code",
   "execution_count": 78,
   "metadata": {},
   "outputs": [],
   "source": [
    "from keras import models\n",
    "from keras import layers\n",
    "from pprint import pprint\n",
    "import matplotlib.pyplot as plt"
   ]
  },
  {
   "cell_type": "code",
   "execution_count": 26,
   "metadata": {},
   "outputs": [
    {
     "name": "stdout",
     "output_type": "stream",
     "text": [
      "[1, 3267, 699, 3434, 2295, 56, 2, 7511, 9, 56, 3906, 1073, 81, 5, 1198, 57, 366, 737, 132, 20, 4093, 7, 2, 49, 2295, 2, 1037, 3267, 699, 3434, 8, 7, 10, 241, 16, 855, 129, 231, 783, 5, 4, 587, 2295, 2, 2, 775, 7, 48, 34, 191, 44, 35, 1795, 505, 17, 12]\n",
      "the termination payment airport takes 6 of geological 3 6 602 begin up said fully bank expects commodity total is giant a of this takes of series termination payment airport mln a for capital 1 pre 50 american east said in council takes of of france a but u any 4 s 1st losses pct dlrs\n",
      "4\n"
     ]
    }
   ],
   "source": [
    "from keras.datasets import reuters\n",
    "num_words=10000\n",
    "(train_data,train_labels),(test_data,test_labels)=reuters.load_data(num_words=num_words)\n",
    "\n",
    "retures_index={v:k for (k,v) in reuters.get_word_index().items()}\n",
    "\n",
    "def print_a_sample(sample):\n",
    "    print(train_data[sample])\n",
    "    \n",
    "    wire=' '.join([retures_index[i] for i in train_data[sample]])\n",
    "    print(wire)\n",
    "    print(train_labels[sample])\n",
    "    \n",
    "print_a_sample(1)"
   ]
  },
  {
   "cell_type": "code",
   "execution_count": 112,
   "metadata": {},
   "outputs": [
    {
     "name": "stdout",
     "output_type": "stream",
     "text": [
      "Shape:(8982, 10000) Size:87543.86 MB\n",
      "Shape:(2246, 10000) Size:21890.84 MB\n",
      "(8982, 46)\n"
     ]
    }
   ],
   "source": [
    "import numpy as np\n",
    "from keras.utils import to_categorical\n",
    "\n",
    "def vectorise_word_index(dataset):\n",
    "    v=np.zeros((len(dataset),num_words)).astype(\"int8\")\n",
    "    \n",
    "    for i,x in enumerate(dataset):\n",
    "        v[i,x]=1\n",
    "    print(\"Shape:{0} Size:{1} MB\".format(v.shape,round(v.nbytes/(1024^2),2)))\n",
    "    return v\n",
    "    \n",
    "x_train=vectorise_word_index(train_data)\n",
    "x_test=vectorise_word_index(test_data)\n",
    "\n",
    "y_train=to_categorical(train_labels)\n",
    "y_test=to_categorical(test_labels)\n",
    "print(np.asarray(y_train).shape)"
   ]
  },
  {
   "cell_type": "code",
   "execution_count": 138,
   "metadata": {},
   "outputs": [],
   "source": [
    "model=models.Sequential()\n",
    "model.add(layers.Dense(64,activation='relu',input_shape=(num_words,)))\n",
    "model.add(layers.Dense(64,activation='relu'))\n",
    "model.add(layers.Dense(46,activation='softmax'))\n",
    "\n",
    "model.compile(optimizer='rmsprop',loss='categorical_crossentropy',metrics=['accuracy'])\n"
   ]
  },
  {
   "cell_type": "code",
   "execution_count": 134,
   "metadata": {},
   "outputs": [
    {
     "name": "stdout",
     "output_type": "stream",
     "text": [
      "Train on 7982 samples, validate on 1000 samples\n",
      "Epoch 1/30\n",
      "7982/7982 [==============================] - 1s 137us/step - loss: 2.5954 - acc: 0.5291 - val_loss: 1.7635 - val_acc: 0.6300\n",
      "Epoch 2/30\n",
      "7982/7982 [==============================] - 1s 93us/step - loss: 1.4437 - acc: 0.6879 - val_loss: 1.3240 - val_acc: 0.7000\n",
      "Epoch 3/30\n",
      "7982/7982 [==============================] - 1s 94us/step - loss: 1.0679 - acc: 0.7633 - val_loss: 1.1388 - val_acc: 0.7440\n",
      "Epoch 4/30\n",
      "7982/7982 [==============================] - 1s 93us/step - loss: 0.8370 - acc: 0.8216 - val_loss: 1.0466 - val_acc: 0.7870\n",
      "Epoch 5/30\n",
      "7982/7982 [==============================] - 1s 93us/step - loss: 0.6622 - acc: 0.8608 - val_loss: 0.9572 - val_acc: 0.7990\n",
      "Epoch 6/30\n",
      "7982/7982 [==============================] - 1s 94us/step - loss: 0.5283 - acc: 0.8884 - val_loss: 0.9189 - val_acc: 0.8030\n",
      "Epoch 7/30\n",
      "7982/7982 [==============================] - 1s 92us/step - loss: 0.4259 - acc: 0.9113 - val_loss: 0.8869 - val_acc: 0.8150\n",
      "Epoch 8/30\n",
      "7982/7982 [==============================] - 1s 96us/step - loss: 0.3415 - acc: 0.9260 - val_loss: 0.9064 - val_acc: 0.8090\n",
      "Epoch 9/30\n",
      "7982/7982 [==============================] - 1s 98us/step - loss: 0.2857 - acc: 0.9380 - val_loss: 0.8891 - val_acc: 0.8190\n",
      "Epoch 10/30\n",
      "7982/7982 [==============================] - 1s 93us/step - loss: 0.2363 - acc: 0.9454 - val_loss: 0.9308 - val_acc: 0.7980\n",
      "Epoch 11/30\n",
      "7982/7982 [==============================] - 1s 100us/step - loss: 0.2024 - acc: 0.9513 - val_loss: 0.9024 - val_acc: 0.8190\n",
      "Epoch 12/30\n",
      "7982/7982 [==============================] - 1s 92us/step - loss: 0.1791 - acc: 0.9534 - val_loss: 0.9435 - val_acc: 0.8070\n",
      "Epoch 13/30\n",
      "7982/7982 [==============================] - 1s 94us/step - loss: 0.1635 - acc: 0.9549 - val_loss: 0.9328 - val_acc: 0.8120\n",
      "Epoch 14/30\n",
      "7982/7982 [==============================] - 1s 94us/step - loss: 0.1466 - acc: 0.9544 - val_loss: 0.9279 - val_acc: 0.8170\n",
      "Epoch 15/30\n",
      "7982/7982 [==============================] - 1s 93us/step - loss: 0.1359 - acc: 0.9562 - val_loss: 1.0057 - val_acc: 0.8030\n",
      "Epoch 16/30\n",
      "7982/7982 [==============================] - 1s 93us/step - loss: 0.1298 - acc: 0.9573 - val_loss: 0.9716 - val_acc: 0.8160\n",
      "Epoch 17/30\n",
      "7982/7982 [==============================] - 1s 97us/step - loss: 0.1233 - acc: 0.9558 - val_loss: 1.0333 - val_acc: 0.8080\n",
      "Epoch 18/30\n",
      "7982/7982 [==============================] - 1s 93us/step - loss: 0.1218 - acc: 0.9554 - val_loss: 1.0074 - val_acc: 0.8150\n",
      "Epoch 19/30\n",
      "7982/7982 [==============================] - 1s 94us/step - loss: 0.1135 - acc: 0.9553 - val_loss: 1.0323 - val_acc: 0.8120\n",
      "Epoch 20/30\n",
      "7982/7982 [==============================] - 1s 93us/step - loss: 0.1136 - acc: 0.9554 - val_loss: 1.0370 - val_acc: 0.8100\n",
      "Epoch 21/30\n",
      "7982/7982 [==============================] - 1s 94us/step - loss: 0.1078 - acc: 0.9559 - val_loss: 1.0492 - val_acc: 0.8120\n",
      "Epoch 22/30\n",
      "7982/7982 [==============================] - 1s 93us/step - loss: 0.1066 - acc: 0.9585 - val_loss: 1.0972 - val_acc: 0.8020\n",
      "Epoch 23/30\n",
      "7982/7982 [==============================] - 1s 95us/step - loss: 0.1003 - acc: 0.9583 - val_loss: 1.0723 - val_acc: 0.8100\n",
      "Epoch 24/30\n",
      "7982/7982 [==============================] - 1s 93us/step - loss: 0.1026 - acc: 0.9583 - val_loss: 1.1205 - val_acc: 0.8060\n",
      "Epoch 25/30\n",
      "7982/7982 [==============================] - 1s 106us/step - loss: 0.1009 - acc: 0.9579 - val_loss: 1.1055 - val_acc: 0.8060\n",
      "Epoch 26/30\n",
      "7982/7982 [==============================] - 1s 95us/step - loss: 0.0998 - acc: 0.9580 - val_loss: 1.1730 - val_acc: 0.7960\n",
      "Epoch 27/30\n",
      "7982/7982 [==============================] - 1s 94us/step - loss: 0.0996 - acc: 0.9582 - val_loss: 1.1447 - val_acc: 0.8030\n",
      "Epoch 28/30\n",
      "7982/7982 [==============================] - 1s 94us/step - loss: 0.0957 - acc: 0.9570 - val_loss: 1.1167 - val_acc: 0.8100\n",
      "Epoch 29/30\n",
      "7982/7982 [==============================] - 1s 97us/step - loss: 0.0961 - acc: 0.9578 - val_loss: 1.1700 - val_acc: 0.7990\n",
      "Epoch 30/30\n",
      "7982/7982 [==============================] - 1s 94us/step - loss: 0.0938 - acc: 0.9590 - val_loss: 1.1521 - val_acc: 0.7960\n"
     ]
    }
   ],
   "source": [
    "history=model.fit(x_train[1000:]\n",
    "                  ,y_train[1000:]\n",
    "                  ,epochs=30\n",
    "                  ,batch_size=512\n",
    "                  ,validation_data=(x_train[:1000],y_train[:1000]))\n"
   ]
  },
  {
   "cell_type": "code",
   "execution_count": 135,
   "metadata": {},
   "outputs": [
    {
     "name": "stdout",
     "output_type": "stream",
     "text": [
      "dict_keys(['val_loss', 'val_acc', 'loss', 'acc'])\n"
     ]
    },
    {
     "data": {
      "image/png": "[encoded data removed]",
      "text/plain": [
       "<Figure size 432x288 with 1 Axes>"
      ]
     },
     "metadata": {},
     "output_type": "display_data"
    },
    {
     "data": {
      "image/png": "[encoded data removed]",
      "text/plain": [
       "<Figure size 432x288 with 1 Axes>"
      ]
     },
     "metadata": {},
     "output_type": "display_data"
    },
    {
     "name": "stdout",
     "output_type": "stream",
     "text": [
      "2246/2246 [==============================] - 0s 109us/step\n",
      "[1.3234203113367382, 0.7782724844698171]\n"
     ]
    }
   ],
   "source": [
    "def plot_train_history(history):\n",
    "    h_dict=history.history\n",
    "    print(h_dict.keys())\n",
    "    epochs=range(1,len(h_dict['acc'])+1)\n",
    "    \n",
    "    plt.plot(epochs,h_dict['loss'],'bo',label='Training Loss')\n",
    "    plt.plot(epochs,h_dict['val_loss'],'b',label='Validation Loss')\n",
    "    plt.title('Validation and Training Loss')\n",
    "    plt.xlabel('Epochs')\n",
    "    plt.ylabel('Loss')\n",
    "    plt.legend()\n",
    "    plt.show()\n",
    "    \n",
    "    plt.clf()\n",
    "    plt.plot(epochs,h_dict['acc'],'bo',label='Training acc')\n",
    "    plt.plot(epochs,h_dict['val_acc'],'b',label='Validation acc')\n",
    "    plt.title('Validation and Training acc')\n",
    "    plt.xlabel('Epochs')\n",
    "    plt.ylabel('acc')\n",
    "    plt.legend()\n",
    "    plt.show()\n",
    "\n",
    "plot_train_history(history)\n",
    "results=model.evaluate(x_test,y_test);\n",
    "print(results)"
   ]
  },
  {
   "cell_type": "markdown",
   "metadata": {},
   "source": [
    "history_full=model.fit(x_train\n",
    "                  ,y_train\n",
    "                  ,epochs=9\n",
    "                  ,batch_size=512)"
   ]
  },
  {
   "cell_type": "code",
   "execution_count": 143,
   "metadata": {},
   "outputs": [
    {
     "name": "stdout",
     "output_type": "stream",
     "text": [
      "2246/2246 [==============================] - 0s 107us/step\n",
      "[0.9700014158114725, 0.7876224398931434]\n"
     ]
    }
   ],
   "source": [
    "predictions=model.predict(x_test)\n",
    "results=model.evaluate(x_test,y_test)\n",
    "print(results)"
   ]
  },
  {
   "cell_type": "code",
   "execution_count": 148,
   "metadata": {},
   "outputs": [
    {
     "name": "stdout",
     "output_type": "stream",
     "text": [
      "[1.21252313e-04 9.88318352e-04 6.36975921e-04 9.77148414e-01\n",
      " 4.02513100e-03 1.96070818e-04 2.74832528e-05 1.28945932e-04\n",
      " 7.53457134e-04 1.60393189e-04 1.16421259e-03 1.66476797e-03\n",
      " 6.30528375e-04 1.88519363e-04 1.75667941e-04 2.81471439e-04\n",
      " 1.16597710e-03 2.42484632e-04 7.65652658e-05 1.34896371e-03\n",
      " 3.25186923e-03 1.83819997e-04 7.75807566e-05 6.57864555e-04\n",
      " 3.74128314e-04 4.04674392e-05 5.96278369e-05 2.50440702e-04\n",
      " 3.52659816e-04 2.10282873e-04 1.76439600e-04 5.27746917e-04\n",
      " 1.55141697e-05 5.44685536e-05 4.82906733e-04 1.56963928e-04\n",
      " 7.92309176e-04 1.82733012e-04 2.18726127e-04 1.08762666e-04\n",
      " 1.27334701e-04 1.68198691e-04 6.58286881e-05 5.40906731e-05\n",
      " 2.61930600e-05 2.57005915e-04]\n",
      "0.99999946\n",
      "3\n",
      "3\n"
     ]
    }
   ],
   "source": [
    "sample=536\n",
    "print(predictions[sample])\n",
    "print(predictions[sample].sum())\n",
    "print(predictions[sample].argmax())\n",
    "print(y_test[sample].argmax())"
   ]
  },
  {
   "cell_type": "code",
   "execution_count": null,
   "metadata": {},
   "outputs": [],
   "source": []
  }
 ],
 "metadata": {
  "kernelspec": {
   "display_name": "Python 3",
   "language": "python",
   "name": "python3"
  },
  "language_info": {
   "codemirror_mode": {
    "name": "ipython",
    "version": 3
   },
   "file_extension": ".py",
   "mimetype": "text/x-python",
   "name": "python",
   "nbconvert_exporter": "python",
   "pygments_lexer": "ipython3",
   "version": "3.6.6"
  }
 },
 "nbformat": 4,
 "nbformat_minor": 2
}
