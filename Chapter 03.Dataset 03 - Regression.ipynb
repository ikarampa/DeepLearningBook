{
 "cells": [
  {
   "cell_type": "code",
   "execution_count": 112,
   "metadata": {},
   "outputs": [],
   "source": [
    "import numpy as np\n",
    "from keras import models\n",
    "from keras import layers\n",
    "from keras.datasets import boston_housing\n",
    "\n",
    "import matplotlib.pyplot as plt"
   ]
  },
  {
   "cell_type": "code",
   "execution_count": 18,
   "metadata": {},
   "outputs": [],
   "source": [
    "(train_data,train_labels),(test_data,test_labels)=boston_housing.load_data()\n",
    "\n",
    "train_data=(train_data-train_data.mean(axis=0))/train_data.std(axis=0)"
   ]
  },
  {
   "cell_type": "code",
   "execution_count": 19,
   "metadata": {},
   "outputs": [
    {
     "name": "stdout",
     "output_type": "stream",
     "text": [
      "(404, 13) (404,)\n",
      "[ 0.63391647 -0.48361547  1.0283258  -0.25683275  1.15788777  0.19313958\n",
      "  1.11048828 -1.03628262  1.67588577  1.5652875   0.78447637  0.22689422\n",
      "  1.04466491]\n",
      "12.1\n"
     ]
    }
   ],
   "source": [
    "print(train_data.shape,train_labels.shape)\n",
    "print(train_data[10])\n",
    "print(train_labels[10])"
   ]
  },
  {
   "cell_type": "code",
   "execution_count": 91,
   "metadata": {},
   "outputs": [],
   "source": [
    "def build_model(train_data):\n",
    "    model=models.Sequential()\n",
    "    model.add(layers.Dense(64,activation='relu',input_shape=(train_data.shape[1],)))\n",
    "    model.add(layers.Dense(1))\n",
    "    \n",
    "    model.compile(optimizer='rmsprop',loss='mse',metrics=['mae'])\n",
    "    return model\n",
    "              "
   ]
  },
  {
   "cell_type": "code",
   "execution_count": 174,
   "metadata": {},
   "outputs": [
    {
     "name": "stdout",
     "output_type": "stream",
     "text": [
      "Fold 0 is -> [0 to 134]\n",
      "Fold 1 is -> [134 to 269]\n",
      "Fold 2 is -> [269 to 404]\n",
      "Processing fold 0 -> [points 269 to 404]\n",
      "****************************************************************************************************\n",
      "Processing fold 1 -> [points 269 to 404]\n",
      "****************************************************************************************************\n",
      "Processing fold 2 -> [points 269 to 404]\n",
      "****************************************************************************************************\n"
     ]
    }
   ],
   "source": [
    "epochs=80\n",
    "def create_k_folds(k_folds,train_data,train_labels,epochs=500):\n",
    "    fold_size=train_data.shape[0]/k_folds\n",
    "\n",
    "    folds_all=dict()\n",
    "    \n",
    "    for k in range(k_folds):\n",
    "        fold_start,fold_end=int(k*fold_size),int((k+1)*fold_size)\n",
    "        \n",
    "        folds_all[k]=[train_data[fold_start:fold_end], #Index 0: Train data\n",
    "                    train_labels[fold_start:fold_end]] #Index 1: Train labels\n",
    "        \n",
    "        print('Fold {0} is -> [{1} to {2}]'.format(k,fold_start,fold_end))\n",
    "        \n",
    "    all_mae_histories = []\n",
    "    for k in range(k_folds):        \n",
    "        x,x_val,y,y_val=None,None,None,None\n",
    "        for k_other in range(k_folds):\n",
    "            if k_other == k:\n",
    "                x_val,y_val=folds_all[k_other]\n",
    "            else:\n",
    "                if not isinstance(x,np.ndarray):\n",
    "                    x,y=folds_all[k_other]\n",
    "                else:\n",
    "                    x=np.concatenate([x,folds_all[k_other][0]]) #Index 0: Train data\n",
    "                    y=np.concatenate([y,folds_all[k_other][1]]) #Index 1: Train labels\n",
    "        print('Processing fold {0} -> [points {1} to {2}]'.format(k,fold_start,fold_end))\n",
    "        model=build_model(train_data=x)\n",
    "        history=model.fit(x,y\n",
    "                          ,validation_data=(x_val,y_val)\n",
    "                          ,epochs=epochs\n",
    "                          ,batch_size=1\n",
    "                          ,verbose=False)\n",
    "        mae_history = history.history['val_mean_absolute_error']\n",
    "        all_mae_histories.append(mae_history)\n",
    "        print('*'*100)\n",
    "        \n",
    "    return all_mae_histories\n",
    "\n",
    "\n",
    "# all_mae_histories_dummy=create_k_folds(k_folds=3\n",
    "#                                       ,train_data=np.array([[1,2],[3,4],[5,6]])\n",
    "#                                       ,train_labels=np.array([-1,-2,-3])\n",
    "#                                       ,epochs=epochs)\n",
    "all_mae_histories=create_k_folds(k_folds=3,train_data=train_data,train_labels=train_labels)"
   ]
  },
  {
   "cell_type": "code",
   "execution_count": 175,
   "metadata": {},
   "outputs": [
    {
     "name": "stdout",
     "output_type": "stream",
     "text": [
      "3.1969709280733465\n"
     ]
    },
    {
     "data": {
      "image/png": "[encoded data removed]",
      "text/plain": [
       "<Figure size 432x288 with 1 Axes>"
      ]
     },
     "metadata": {},
     "output_type": "display_data"
    }
   ],
   "source": [
    "def smooth_curve(points, factor=0.9):\n",
    "    smoothed_points = []\n",
    "    for point in points:\n",
    "        if smoothed_points:\n",
    "            previous = smoothed_points[-1]\n",
    "            smoothed_points.append(previous * factor + point * (1 - factor))\n",
    "        else:\n",
    "            smoothed_points.append(point)\n",
    "    return smoothed_points\n",
    "\n",
    "def plot_k_fold(all_mae_histories,epochs,skip_fist=10):\n",
    "    average_mae_history = [np.mean([x[i] for x in all_mae_histories]) for i in range(epochs)]\n",
    "    average_mae_history=average_mae_history[skip_fist:]\n",
    "    average_mae_history=smooth_curve(average_mae_history)\n",
    "    print(average_mae_history[0])\n",
    "\n",
    "    import matplotlib.pyplot as plt\n",
    "    plt.plot(range(1, len(average_mae_history) + 1), average_mae_history)\n",
    "    plt.xlabel('Epochs')\n",
    "    plt.ylabel('Validation MAE')\n",
    "    plt.show()\n",
    "\n",
    "plot_k_fold(all_mae_histories,epochs=epochs)"
   ]
  },
  {
   "cell_type": "code",
   "execution_count": 189,
   "metadata": {},
   "outputs": [
    {
     "name": "stdout",
     "output_type": "stream",
     "text": [
      "Epoch 1/80\n",
      "404/404 [==============================] - 1s 2ms/step - loss: 563.8634 - mean_absolute_error: 21.9816\n",
      "Epoch 2/80\n",
      "404/404 [==============================] - 0s 62us/step - loss: 517.0021 - mean_absolute_error: 20.9557\n",
      "Epoch 3/80\n",
      "404/404 [==============================] - 0s 64us/step - loss: 471.9896 - mean_absolute_error: 19.9274\n",
      "Epoch 4/80\n",
      "404/404 [==============================] - 0s 57us/step - loss: 424.0967 - mean_absolute_error: 18.7836\n",
      "Epoch 5/80\n",
      "404/404 [==============================] - 0s 62us/step - loss: 374.2162 - mean_absolute_error: 17.5033\n",
      "Epoch 6/80\n",
      "404/404 [==============================] - 0s 57us/step - loss: 323.9189 - mean_absolute_error: 16.0726\n",
      "Epoch 7/80\n",
      "404/404 [==============================] - 0s 62us/step - loss: 274.8745 - mean_absolute_error: 14.5296\n",
      "Epoch 8/80\n",
      "404/404 [==============================] - 0s 57us/step - loss: 229.7040 - mean_absolute_error: 12.9345\n",
      "Epoch 9/80\n",
      "404/404 [==============================] - 0s 64us/step - loss: 189.2448 - mean_absolute_error: 11.3149\n",
      "Epoch 10/80\n",
      "404/404 [==============================] - 0s 57us/step - loss: 154.2944 - mean_absolute_error: 9.9062\n",
      "Epoch 11/80\n",
      "404/404 [==============================] - 0s 64us/step - loss: 125.3125 - mean_absolute_error: 8.6540\n",
      "Epoch 12/80\n",
      "404/404 [==============================] - 0s 62us/step - loss: 102.2256 - mean_absolute_error: 7.6539\n",
      "Epoch 13/80\n",
      "404/404 [==============================] - 0s 59us/step - loss: 83.7817 - mean_absolute_error: 6.8270\n",
      "Epoch 14/80\n",
      "404/404 [==============================] - 0s 62us/step - loss: 69.6967 - mean_absolute_error: 6.1522\n",
      "Epoch 15/80\n",
      "404/404 [==============================] - 0s 79us/step - loss: 58.6901 - mean_absolute_error: 5.5661\n",
      "Epoch 16/80\n",
      "404/404 [==============================] - 0s 77us/step - loss: 49.5318 - mean_absolute_error: 5.0201\n",
      "Epoch 17/80\n",
      "404/404 [==============================] - 0s 62us/step - loss: 42.5735 - mean_absolute_error: 4.5946\n",
      "Epoch 18/80\n",
      "404/404 [==============================] - 0s 77us/step - loss: 37.7131 - mean_absolute_error: 4.2517\n",
      "Epoch 19/80\n",
      "404/404 [==============================] - 0s 67us/step - loss: 34.3870 - mean_absolute_error: 4.0284\n",
      "Epoch 20/80\n",
      "404/404 [==============================] - 0s 64us/step - loss: 32.2268 - mean_absolute_error: 3.9011\n",
      "Epoch 21/80\n",
      "404/404 [==============================] - 0s 74us/step - loss: 30.6305 - mean_absolute_error: 3.7860\n",
      "Epoch 22/80\n",
      "404/404 [==============================] - 0s 59us/step - loss: 29.4064 - mean_absolute_error: 3.7130\n",
      "Epoch 23/80\n",
      "404/404 [==============================] - 0s 57us/step - loss: 28.3159 - mean_absolute_error: 3.6552\n",
      "Epoch 24/80\n",
      "404/404 [==============================] - 0s 67us/step - loss: 27.2532 - mean_absolute_error: 3.5853\n",
      "Epoch 25/80\n",
      "404/404 [==============================] - 0s 69us/step - loss: 26.3150 - mean_absolute_error: 3.5233\n",
      "Epoch 26/80\n",
      "404/404 [==============================] - 0s 59us/step - loss: 25.4109 - mean_absolute_error: 3.4667\n",
      "Epoch 27/80\n",
      "404/404 [==============================] - 0s 64us/step - loss: 24.5837 - mean_absolute_error: 3.4348\n",
      "Epoch 28/80\n",
      "404/404 [==============================] - 0s 67us/step - loss: 23.8384 - mean_absolute_error: 3.3781\n",
      "Epoch 29/80\n",
      "404/404 [==============================] - 0s 57us/step - loss: 22.9561 - mean_absolute_error: 3.3123\n",
      "Epoch 30/80\n",
      "404/404 [==============================] - 0s 72us/step - loss: 22.2824 - mean_absolute_error: 3.3041\n",
      "Epoch 31/80\n",
      "404/404 [==============================] - 0s 59us/step - loss: 21.5348 - mean_absolute_error: 3.2151\n",
      "Epoch 32/80\n",
      "404/404 [==============================] - 0s 59us/step - loss: 20.9870 - mean_absolute_error: 3.2089\n",
      "Epoch 33/80\n",
      "404/404 [==============================] - 0s 64us/step - loss: 20.3293 - mean_absolute_error: 3.1248\n",
      "Epoch 34/80\n",
      "404/404 [==============================] - 0s 59us/step - loss: 19.6824 - mean_absolute_error: 3.1133\n",
      "Epoch 35/80\n",
      "404/404 [==============================] - 0s 69us/step - loss: 19.1322 - mean_absolute_error: 3.0369\n",
      "Epoch 36/80\n",
      "404/404 [==============================] - 0s 72us/step - loss: 18.6177 - mean_absolute_error: 3.0030\n",
      "Epoch 37/80\n",
      "404/404 [==============================] - 0s 72us/step - loss: 18.0977 - mean_absolute_error: 2.9871\n",
      "Epoch 38/80\n",
      "404/404 [==============================] - 0s 67us/step - loss: 17.5591 - mean_absolute_error: 2.9170\n",
      "Epoch 39/80\n",
      "404/404 [==============================] - 0s 62us/step - loss: 16.9741 - mean_absolute_error: 2.8823\n",
      "Epoch 40/80\n",
      "404/404 [==============================] - 0s 67us/step - loss: 16.5417 - mean_absolute_error: 2.8461\n",
      "Epoch 41/80\n",
      "404/404 [==============================] - 0s 67us/step - loss: 16.1296 - mean_absolute_error: 2.7986\n",
      "Epoch 42/80\n",
      "404/404 [==============================] - 0s 57us/step - loss: 15.6934 - mean_absolute_error: 2.7565\n",
      "Epoch 43/80\n",
      "404/404 [==============================] - 0s 54us/step - loss: 15.2015 - mean_absolute_error: 2.7130\n",
      "Epoch 44/80\n",
      "404/404 [==============================] - 0s 72us/step - loss: 14.7573 - mean_absolute_error: 2.6738\n",
      "Epoch 45/80\n",
      "404/404 [==============================] - 0s 72us/step - loss: 14.3820 - mean_absolute_error: 2.6442\n",
      "Epoch 46/80\n",
      "404/404 [==============================] - 0s 62us/step - loss: 14.1019 - mean_absolute_error: 2.6241\n",
      "Epoch 47/80\n",
      "404/404 [==============================] - 0s 62us/step - loss: 13.7521 - mean_absolute_error: 2.5741\n",
      "Epoch 48/80\n",
      "404/404 [==============================] - 0s 69us/step - loss: 13.4109 - mean_absolute_error: 2.5423\n",
      "Epoch 49/80\n",
      "404/404 [==============================] - 0s 77us/step - loss: 13.0672 - mean_absolute_error: 2.4996\n",
      "Epoch 50/80\n",
      "404/404 [==============================] - 0s 74us/step - loss: 12.7968 - mean_absolute_error: 2.4735\n",
      "Epoch 51/80\n",
      "404/404 [==============================] - 0s 69us/step - loss: 12.5699 - mean_absolute_error: 2.4438\n",
      "Epoch 52/80\n",
      "404/404 [==============================] - 0s 62us/step - loss: 12.2080 - mean_absolute_error: 2.3948\n",
      "Epoch 53/80\n",
      "404/404 [==============================] - 0s 69us/step - loss: 11.9731 - mean_absolute_error: 2.3847\n",
      "Epoch 54/80\n",
      "404/404 [==============================] - 0s 54us/step - loss: 11.7378 - mean_absolute_error: 2.3695\n",
      "Epoch 55/80\n",
      "404/404 [==============================] - 0s 64us/step - loss: 11.5177 - mean_absolute_error: 2.3288\n",
      "Epoch 56/80\n",
      "404/404 [==============================] - 0s 59us/step - loss: 11.3327 - mean_absolute_error: 2.3299\n",
      "Epoch 57/80\n",
      "404/404 [==============================] - 0s 64us/step - loss: 11.1488 - mean_absolute_error: 2.2859\n",
      "Epoch 58/80\n",
      "404/404 [==============================] - 0s 59us/step - loss: 11.0042 - mean_absolute_error: 2.2813\n",
      "Epoch 59/80\n",
      "404/404 [==============================] - 0s 67us/step - loss: 10.8834 - mean_absolute_error: 2.2792\n",
      "Epoch 60/80\n",
      "404/404 [==============================] - 0s 59us/step - loss: 10.6864 - mean_absolute_error: 2.2478\n",
      "Epoch 61/80\n",
      "404/404 [==============================] - 0s 57us/step - loss: 10.5185 - mean_absolute_error: 2.2195\n",
      "Epoch 62/80\n",
      "404/404 [==============================] - 0s 64us/step - loss: 10.4253 - mean_absolute_error: 2.1966\n",
      "Epoch 63/80\n",
      "404/404 [==============================] - 0s 59us/step - loss: 10.2757 - mean_absolute_error: 2.1971\n",
      "Epoch 64/80\n",
      "404/404 [==============================] - 0s 62us/step - loss: 10.1676 - mean_absolute_error: 2.1874\n",
      "Epoch 65/80\n",
      "404/404 [==============================] - 0s 62us/step - loss: 10.0297 - mean_absolute_error: 2.1762\n",
      "Epoch 66/80\n",
      "404/404 [==============================] - 0s 62us/step - loss: 9.8706 - mean_absolute_error: 2.1579\n",
      "Epoch 67/80\n",
      "404/404 [==============================] - 0s 69us/step - loss: 9.8114 - mean_absolute_error: 2.1432\n",
      "Epoch 68/80\n",
      "404/404 [==============================] - 0s 62us/step - loss: 9.7270 - mean_absolute_error: 2.1352\n",
      "Epoch 69/80\n",
      "404/404 [==============================] - 0s 62us/step - loss: 9.6543 - mean_absolute_error: 2.1343\n",
      "Epoch 70/80\n",
      "404/404 [==============================] - 0s 62us/step - loss: 9.5585 - mean_absolute_error: 2.1202\n",
      "Epoch 71/80\n",
      "404/404 [==============================] - 0s 62us/step - loss: 9.4314 - mean_absolute_error: 2.1172\n",
      "Epoch 72/80\n"
     ]
    },
    {
     "name": "stdout",
     "output_type": "stream",
     "text": [
      "404/404 [==============================] - 0s 67us/step - loss: 9.3935 - mean_absolute_error: 2.1090\n",
      "Epoch 73/80\n",
      "404/404 [==============================] - 0s 64us/step - loss: 9.4468 - mean_absolute_error: 2.0960\n",
      "Epoch 74/80\n",
      "404/404 [==============================] - 0s 62us/step - loss: 9.2365 - mean_absolute_error: 2.0856\n",
      "Epoch 75/80\n",
      "404/404 [==============================] - 0s 54us/step - loss: 9.2556 - mean_absolute_error: 2.0895\n",
      "Epoch 76/80\n",
      "404/404 [==============================] - 0s 54us/step - loss: 9.0790 - mean_absolute_error: 2.0779\n",
      "Epoch 77/80\n",
      "404/404 [==============================] - 0s 54us/step - loss: 9.1062 - mean_absolute_error: 2.0604\n",
      "Epoch 78/80\n",
      "404/404 [==============================] - 0s 57us/step - loss: 8.9800 - mean_absolute_error: 2.0681\n",
      "Epoch 79/80\n",
      "404/404 [==============================] - 0s 62us/step - loss: 8.9981 - mean_absolute_error: 2.0721\n",
      "Epoch 80/80\n",
      "404/404 [==============================] - 0s 57us/step - loss: 8.9433 - mean_absolute_error: 2.0657\n"
     ]
    },
    {
     "data": {
      "text/plain": [
       "<keras.callbacks.History at 0x226902e8>"
      ]
     },
     "execution_count": 189,
     "metadata": {},
     "output_type": "execute_result"
    }
   ],
   "source": [
    "final_model=build_model(train_data)\n",
    "\n",
    "final_model.fit(train_data, train_labels,\n",
    "        epochs=80, batch_size=16)"
   ]
  },
  {
   "cell_type": "code",
   "execution_count": 190,
   "metadata": {},
   "outputs": [
    {
     "name": "stdout",
     "output_type": "stream",
     "text": [
      "102/102 [==============================] - 0s 3ms/step\n",
      "Absolute $ error: 1438.61\n"
     ]
    }
   ],
   "source": [
    "test_mse_score,test_mae_score=final_model.evaluate(test_data,test_labels)\n",
    "print('Absolute $ error: {0}'.format(round(test_mae_score,2)))"
   ]
  },
  {
   "cell_type": "code",
   "execution_count": null,
   "metadata": {},
   "outputs": [],
   "source": []
  }
 ],
 "metadata": {
  "kernelspec": {
   "display_name": "Python 3",
   "language": "python",
   "name": "python3"
  },
  "language_info": {
   "codemirror_mode": {
    "name": "ipython",
    "version": 3
   },
   "file_extension": ".py",
   "mimetype": "text/x-python",
   "name": "python",
   "nbconvert_exporter": "python",
   "pygments_lexer": "ipython3",
   "version": "3.6.6"
  }
 },
 "nbformat": 4,
 "nbformat_minor": 2
}
