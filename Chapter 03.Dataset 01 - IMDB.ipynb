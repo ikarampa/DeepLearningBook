{
 "cells": [
  {
   "cell_type": "code",
   "execution_count": 28,
   "metadata": {},
   "outputs": [],
   "source": [
    "from keras.datasets import imdb\n",
    "import numpy as np"
   ]
  },
  {
   "cell_type": "code",
   "execution_count": 41,
   "metadata": {},
   "outputs": [],
   "source": [
    "num_words=10000\n",
    "(train_data,train_labels),(test_data,test_labels)=imdb.load_data(num_words=num_words)\n",
    "word_index=dict()\n",
    "for (k,v) in imdb.get_word_index().items():\n",
    "    word_index[v]=k"
   ]
  },
  {
   "cell_type": "code",
   "execution_count": 188,
   "metadata": {},
   "outputs": [
    {
     "name": "stdout",
     "output_type": "stream",
     "text": [
      "the social social he an listen studio absolute unexpected or is and br choices that introduce horror her how br an as it is tied surprise for bollywood will and much is ignorance got subjected like represents she melt to confusing an of decent like unbelievably of number some br made no all with this family's during big why have me director in another film not as you book i'm of every grandma movie an of because amusing complications dvd or of simple in of awful repeated unnecessary want in shakespeare's musical no is narration proceed it experience to musical no of direction into performing bad does of isolation who years while perhaps studio characters uninspired of glass and up to up who of stay episode we air have back like this were times second it part in possibly is under br distinguished this is seemed worn and this of husband br of left to out possibly about some br of outstanding go evil an including to branagh who 1979 end for could think imagination actor they an i i cerebral it see scream 2nd by very nice crowd of and br informative and being would role urban reasons is 2000 to of direction and they about film is respective music good very 7 this of material s by relationship aspects who forgivable of making remember it blend this of excellent mess surreal are of year i i which of love it direct they where of before an wonderfully i'm were god br screen english and it name acknowledged which this be pointless movie of white being are convinced informative creator it is sound horrible old to would features is and unfortunately of on i i cerebral it out just smart stuff dealing abilities display hands to comedy is very naive this deeply then which feelings i i only simple wanted some br didn't\n",
      "[1, 1028, 1028, 26, 32, 1629, 1179, 1554, 2073, 39, 6, 2, 7, 2834, 12, 4916, 186, 38, 86, 7, 32, 14, 9, 6, 3143, 863, 15, 2856, 77, 2, 73, 6, 5482, 185, 5155, 37, 3418, 56, 9229, 5, 1496, 32, 4, 539, 37, 3810, 4, 609, 46, 7, 90, 54, 29, 16, 11, 4715, 312, 191, 135, 25, 69, 164, 8, 157, 19, 21, 14, 22, 271, 143, 4, 172, 7094, 17, 32, 4, 85, 1136, 7416, 285, 39, 4, 603, 8, 4, 370, 2445, 1741, 178, 8, 5709, 618, 54, 6, 2556, 8036, 9, 582, 5, 618, 54, 4, 455, 80, 3459, 75, 124, 4, 6481, 34, 150, 134, 379, 1179, 102, 3655, 4, 3059, 2, 53, 5, 53, 34, 4, 786, 387, 72, 942, 25, 142, 37, 11, 68, 208, 330, 9, 170, 8, 866, 6, 464, 7, 9130, 11, 6, 465, 4734, 2, 11, 4, 655, 7, 4, 314, 5, 43, 866, 41, 46, 7, 4, 1336, 137, 442, 32, 584, 5, 3391, 34, 5512, 127, 15, 97, 101, 1543, 281, 33, 32, 10, 10, 6076, 9, 64, 2036, 3972, 31, 52, 324, 2290, 4, 2, 7, 7177, 2, 109, 59, 214, 2605, 1004, 6, 3073, 5, 4, 455, 2, 33, 41, 19, 6, 5486, 225, 49, 52, 690, 11, 4, 816, 587, 31, 646, 1406, 34, 9303, 4, 228, 374, 9, 3887, 11, 4, 318, 944, 2424, 23, 4, 288, 10, 10, 60, 4, 116, 9, 1501, 33, 118, 4, 156, 32, 1666, 143, 68, 555, 7, 265, 628, 2, 9, 400, 9624, 60, 11, 27, 1146, 17, 4, 425, 109, 23, 2344, 7177, 4865, 9, 6, 478, 524, 151, 5, 59, 941, 6, 2, 469, 4, 20, 10, 10, 6076, 9, 43, 40, 1390, 535, 1948, 4035, 2441, 954, 5, 209, 6, 52, 2337, 11, 1682, 92, 60, 1414, 10, 10, 61, 603, 470, 46, 7, 158]\n",
      "Words: 314\n",
      "Unique Words: 190\n",
      "Rating: 0\n"
     ]
    }
   ],
   "source": [
    "def print_a_sample(sample):\n",
    "    review=' '.join([word_index[i] for i in train_data[sample]])\n",
    "    rating=train_labels[sample]\n",
    "    print(review)\n",
    "    print(list(train_data[sample]))\n",
    "    print(\"Words: \" + str(len(train_data[sample])))\n",
    "    print(\"Unique Words: \" + str(len(np.unique(train_data[sample]))))\n",
    "    print(\"Rating: \" + str(rating))\n",
    "\n",
    "print_a_sample(3000)"
   ]
  },
  {
   "cell_type": "code",
   "execution_count": 84,
   "metadata": {},
   "outputs": [
    {
     "name": "stdout",
     "output_type": "stream",
     "text": [
      "(25000, 10000)\n",
      "[120. 121.  97. ... 116.  99.  95.]\n",
      "(25000, 10000)\n",
      "[ 47. 153. 280. ...  63.  69. 110.]\n",
      "(25000, 10000) (25000, 10000) (25000,) (25000,)\n"
     ]
    }
   ],
   "source": [
    "def vectorise_all_samples(my_train_test_data,up_to_sample=25000):\n",
    "    x=np.zeros((len(my_train_test_data[:up_to_sample]),num_words))\n",
    "    for (i,sample) in enumerate(my_train_test_data[:up_to_sample]):\n",
    "        x[i,my_train_test_data[i]]=1\n",
    "    print(x.shape)\n",
    "    print(x.sum(axis=1))\n",
    "    return x\n",
    "\n",
    "x_train=vectorise_all_samples(train_data,up_to_sample=len(train_data))\n",
    "x_test=vectorise_all_samples(test_data,up_to_sample=len(test_data))\n",
    "\n",
    "y_train=np.asarray(train_labels).astype('float32')\n",
    "y_test=np.asarray(test_labels).astype('float32')\n",
    "\n",
    "print(x_train.shape,x_test.shape,y_train.shape,y_train.shape)"
   ]
  },
  {
   "cell_type": "code",
   "execution_count": 181,
   "metadata": {},
   "outputs": [],
   "source": [
    "from keras import layers\n",
    "from keras import models\n",
    "\n",
    "model=models.Sequential()\n",
    "model.add(layers.Dense(16,activation='tanh',input_shape=(num_words,)))\n",
    "model.add(layers.Dense(1,activation='sigmoid'))"
   ]
  },
  {
   "cell_type": "code",
   "execution_count": 182,
   "metadata": {},
   "outputs": [],
   "source": [
    "from keras import optimizers\n",
    "from keras import losses\n",
    "from keras import metrics\n",
    "\n",
    "model.compile(optimizer=optimizers.RMSprop(lr=0.001), \n",
    "              loss=losses.mse,\n",
    "              metrics=[metrics.binary_accuracy])"
   ]
  },
  {
   "cell_type": "code",
   "execution_count": 183,
   "metadata": {},
   "outputs": [
    {
     "name": "stdout",
     "output_type": "stream",
     "text": [
      "Train on 15000 samples, validate on 10000 samples\n",
      "Epoch 1/10\n",
      "15000/15000 [==============================] - 2s 153us/step - loss: 0.1750 - binary_accuracy: 0.7973 - val_loss: 0.1346 - val_binary_accuracy: 0.8655\n",
      "Epoch 2/10\n",
      "15000/15000 [==============================] - 2s 127us/step - loss: 0.1073 - binary_accuracy: 0.8996 - val_loss: 0.1078 - val_binary_accuracy: 0.8758\n",
      "Epoch 3/10\n",
      "15000/15000 [==============================] - 2s 129us/step - loss: 0.0799 - binary_accuracy: 0.9231 - val_loss: 0.0932 - val_binary_accuracy: 0.8866\n",
      "Epoch 4/10\n",
      "15000/15000 [==============================] - 2s 128us/step - loss: 0.0636 - binary_accuracy: 0.9365 - val_loss: 0.0864 - val_binary_accuracy: 0.8894\n",
      "Epoch 5/10\n",
      "15000/15000 [==============================] - 2s 128us/step - loss: 0.0522 - binary_accuracy: 0.9489 - val_loss: 0.0851 - val_binary_accuracy: 0.8886\n",
      "Epoch 6/10\n",
      "15000/15000 [==============================] - 2s 128us/step - loss: 0.0438 - binary_accuracy: 0.9579 - val_loss: 0.0837 - val_binary_accuracy: 0.8881\n",
      "Epoch 7/10\n",
      "15000/15000 [==============================] - 2s 126us/step - loss: 0.0369 - binary_accuracy: 0.9650 - val_loss: 0.0828 - val_binary_accuracy: 0.8872\n",
      "Epoch 8/10\n",
      "15000/15000 [==============================] - 2s 127us/step - loss: 0.0313 - binary_accuracy: 0.9715 - val_loss: 0.0831 - val_binary_accuracy: 0.8853\n",
      "Epoch 9/10\n",
      "15000/15000 [==============================] - 2s 127us/step - loss: 0.0274 - binary_accuracy: 0.9756 - val_loss: 0.0842 - val_binary_accuracy: 0.8839\n",
      "Epoch 10/10\n",
      "15000/15000 [==============================] - 2s 127us/step - loss: 0.0231 - binary_accuracy: 0.9799 - val_loss: 0.0862 - val_binary_accuracy: 0.8827\n",
      "dict_keys(['val_loss', 'val_binary_accuracy', 'loss', 'binary_accuracy'])\n"
     ]
    },
    {
     "data": {
      "image/png": "[encoded data removed]",
      "text/plain": [
       "<Figure size 432x288 with 1 Axes>"
      ]
     },
     "metadata": {},
     "output_type": "display_data"
    },
    {
     "data": {
      "image/png": "[encoded data removed]",
      "text/plain": [
       "<Figure size 432x288 with 1 Axes>"
      ]
     },
     "metadata": {},
     "output_type": "display_data"
    }
   ],
   "source": [
    "import matplotlib.pyplot as plt\n",
    "def plot_train_history(history):\n",
    "    h_dict=history.history\n",
    "    print(h_dict.keys())\n",
    "    epochs=range(1,len(h_dict['binary_accuracy'])+1)\n",
    "    \n",
    "    plt.plot(epochs,h_dict['loss'],'bo',label='Training Loss')\n",
    "    plt.plot(epochs,h_dict['val_loss'],'b',label='Validation Loss')\n",
    "    plt.title('Validation and Training Loss')\n",
    "    plt.xlabel('Epochs')\n",
    "    plt.ylabel('Loss')\n",
    "    plt.legend()\n",
    "    plt.show()\n",
    "    \n",
    "    plt.clf()\n",
    "    plt.plot(epochs,h_dict['binary_accuracy'],'bo',label='Training acc')\n",
    "    plt.plot(epochs,h_dict['val_binary_accuracy'],'b',label='Validation acc')\n",
    "    plt.title('Validation and Training acc')\n",
    "    plt.xlabel('Epochs')\n",
    "    plt.ylabel('acc')\n",
    "    plt.legend()\n",
    "    plt.show()\n",
    "    \n",
    "    \n",
    "def validate_model(model,val_samples):\n",
    "    x_val=x_train[:val_samples]\n",
    "    x_train_partial=x_train[val_samples:]\n",
    "\n",
    "    y_val=y_train[:val_samples]\n",
    "    y_train_partial=y_train[val_samples:]\n",
    "\n",
    "    history=model.fit(x_train_partial,\n",
    "                      y_train_partial,\n",
    "                      epochs=10,\n",
    "                      batch_size=512,\n",
    "                      validation_data=(x_val,y_val),)\n",
    "    plot_train_history(history)\n",
    "    \n",
    "validate_model(model,10000)"
   ]
  },
  {
   "cell_type": "code",
   "execution_count": 184,
   "metadata": {},
   "outputs": [
    {
     "name": "stdout",
     "output_type": "stream",
     "text": [
      "Train on 25000 samples, validate on 1000 samples\n",
      "Epoch 1/4\n",
      "25000/25000 [==============================] - 2s 87us/step - loss: 0.0462 - binary_accuracy: 0.9438 - val_loss: 0.0633 - val_binary_accuracy: 0.9180\n",
      "Epoch 2/4\n",
      "25000/25000 [==============================] - 2s 87us/step - loss: 0.0380 - binary_accuracy: 0.9558 - val_loss: 0.0493 - val_binary_accuracy: 0.9440\n",
      "Epoch 3/4\n",
      "25000/25000 [==============================] - 2s 87us/step - loss: 0.0329 - binary_accuracy: 0.9626 - val_loss: 0.0423 - val_binary_accuracy: 0.9510\n",
      "Epoch 4/4\n",
      "25000/25000 [==============================] - 2s 89us/step - loss: 0.0285 - binary_accuracy: 0.9696 - val_loss: 0.0366 - val_binary_accuracy: 0.9620\n"
     ]
    }
   ],
   "source": [
    "history=model.fit(x_train,\n",
    "                  y_train,\n",
    "                  epochs=4,\n",
    "                  batch_size=512,\n",
    "                  validation_data=(x_val,y_val),)"
   ]
  },
  {
   "cell_type": "code",
   "execution_count": 185,
   "metadata": {},
   "outputs": [
    {
     "name": "stdout",
     "output_type": "stream",
     "text": [
      "25000/25000 [==============================] - 2s 88us/step\n",
      "[0.09881136383473874, 0.87168]\n"
     ]
    }
   ],
   "source": [
    "results = model.evaluate(x_test, y_test)\n",
    "print(results)\n"
   ]
  },
  {
   "cell_type": "code",
   "execution_count": 161,
   "metadata": {},
   "outputs": [
    {
     "data": {
      "text/plain": [
       "array([[0.19449472],\n",
       "       [0.9997993 ],\n",
       "       [0.71854687],\n",
       "       ...,\n",
       "       [0.09560154],\n",
       "       [0.05522196],\n",
       "       [0.6352313 ]], dtype=float32)"
      ]
     },
     "execution_count": 161,
     "metadata": {},
     "output_type": "execute_result"
    }
   ],
   "source": [
    "model.predict(x_test)"
   ]
  },
  {
   "cell_type": "code",
   "execution_count": null,
   "metadata": {},
   "outputs": [],
   "source": []
  }
 ],
 "metadata": {
  "kernelspec": {
   "display_name": "Python 3",
   "language": "python",
   "name": "python3"
  },
  "language_info": {
   "codemirror_mode": {
    "name": "ipython",
    "version": 3
   },
   "file_extension": ".py",
   "mimetype": "text/x-python",
   "name": "python",
   "nbconvert_exporter": "python",
   "pygments_lexer": "ipython3",
   "version": "3.6.6"
  }
 },
 "nbformat": 4,
 "nbformat_minor": 2
}
